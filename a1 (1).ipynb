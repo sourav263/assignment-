{
 "cells": [
  {
   "cell_type": "markdown",
   "id": "f83003d1",
   "metadata": {},
   "source": [
    "# question 1"
   ]
  },
  {
   "cell_type": "markdown",
   "id": "6f5ff982",
   "metadata": {},
   "source": [
    "''' * = expression \n",
    " 'hello'=value\n",
    " -87.8 = value\n",
    " - = expression\n",
    " / = expression\n",
    " + = expression\n",
    " 6 = value '''\n",
    " \n",
    "\n"
   ]
  },
  {
   "cell_type": "markdown",
   "id": "aa27e52c",
   "metadata": {},
   "source": [
    "#  2"
   ]
  },
  {
   "cell_type": "code",
   "execution_count": 3,
   "id": "f3f6d028",
   "metadata": {},
   "outputs": [],
   "source": [
    "# string is a one type of data and variable store our data"
   ]
  },
  {
   "cell_type": "markdown",
   "id": "cb2f7d4c",
   "metadata": {},
   "source": [
    "# 3"
   ]
  },
  {
   "cell_type": "code",
   "execution_count": 4,
   "id": "fad4a1d5",
   "metadata": {},
   "outputs": [],
   "source": [
    "# integer is one of data type e.g 2,3,222\n",
    "# string ......                e.g \"data science\"\n",
    "# bool                         e.g. True , False"
   ]
  },
  {
   "cell_type": "markdown",
   "id": "0437d5ee",
   "metadata": {},
   "source": [
    "# 4"
   ]
  },
  {
   "cell_type": "code",
   "execution_count": 5,
   "id": "ddef977b",
   "metadata": {},
   "outputs": [],
   "source": [
    "# expression does evaluates to value "
   ]
  },
  {
   "cell_type": "markdown",
   "id": "de8e5973",
   "metadata": {},
   "source": [
    "# 5"
   ]
  },
  {
   "cell_type": "code",
   "execution_count": 6,
   "id": "88672f23",
   "metadata": {},
   "outputs": [],
   "source": [
    "# expression does evaluates to value and statement can be a variable or showing a value or define something ."
   ]
  },
  {
   "cell_type": "markdown",
   "id": "5eebe38e",
   "metadata": {},
   "source": [
    "#  6"
   ]
  },
  {
   "cell_type": "code",
   "execution_count": 7,
   "id": "dcb899f0",
   "metadata": {},
   "outputs": [
    {
     "data": {
      "text/plain": [
       "23"
      ]
     },
     "execution_count": 7,
     "metadata": {},
     "output_type": "execute_result"
    }
   ],
   "source": [
    "bacon = 22\n",
    "bacon+1"
   ]
  },
  {
   "cell_type": "markdown",
   "id": "de55f3e5",
   "metadata": {},
   "source": [
    "#  7"
   ]
  },
  {
   "cell_type": "code",
   "execution_count": 8,
   "id": "befe4f2f",
   "metadata": {},
   "outputs": [
    {
     "data": {
      "text/plain": [
       "'spamspamspam'"
      ]
     },
     "execution_count": 8,
     "metadata": {},
     "output_type": "execute_result"
    }
   ],
   "source": [
    "'spam'+ 'spamspam'"
   ]
  },
  {
   "cell_type": "code",
   "execution_count": 9,
   "id": "4f633261",
   "metadata": {},
   "outputs": [
    {
     "data": {
      "text/plain": [
       "'spamspamspam'"
      ]
     },
     "execution_count": 9,
     "metadata": {},
     "output_type": "execute_result"
    }
   ],
   "source": [
    "'spam'*3"
   ]
  },
  {
   "cell_type": "markdown",
   "id": "6471345c",
   "metadata": {},
   "source": [
    "# 8"
   ]
  },
  {
   "cell_type": "code",
   "execution_count": 11,
   "id": "ef886283",
   "metadata": {},
   "outputs": [
    {
     "ename": "SyntaxError",
     "evalue": "cannot assign to literal (2798319178.py, line 1)",
     "output_type": "error",
     "traceback": [
      "\u001b[1;36m  Input \u001b[1;32mIn [11]\u001b[1;36m\u001b[0m\n\u001b[1;33m    100 = 's'\u001b[0m\n\u001b[1;37m    ^\u001b[0m\n\u001b[1;31mSyntaxError\u001b[0m\u001b[1;31m:\u001b[0m cannot assign to literal\n"
     ]
    }
   ],
   "source": [
    "100 = 's'"
   ]
  },
  {
   "cell_type": "markdown",
   "id": "a2ad0e11",
   "metadata": {},
   "source": [
    "# 9"
   ]
  },
  {
   "cell_type": "code",
   "execution_count": 12,
   "id": "a808174a",
   "metadata": {},
   "outputs": [],
   "source": [
    "#int(), float(), str()"
   ]
  },
  {
   "cell_type": "markdown",
   "id": "d889b891",
   "metadata": {},
   "source": [
    "# 10"
   ]
  },
  {
   "cell_type": "code",
   "execution_count": 13,
   "id": "0405c047",
   "metadata": {},
   "outputs": [],
   "source": [
    "# string and integer can not assign"
   ]
  },
  {
   "cell_type": "code",
   "execution_count": null,
   "id": "866542b4",
   "metadata": {},
   "outputs": [],
   "source": []
  }
 ],
 "metadata": {
  "kernelspec": {
   "display_name": "Python 3 (ipykernel)",
   "language": "python",
   "name": "python3"
  },
  "language_info": {
   "codemirror_mode": {
    "name": "ipython",
    "version": 3
   },
   "file_extension": ".py",
   "mimetype": "text/x-python",
   "name": "python",
   "nbconvert_exporter": "python",
   "pygments_lexer": "ipython3",
   "version": "3.9.12"
  }
 },
 "nbformat": 4,
 "nbformat_minor": 5
}
