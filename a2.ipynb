{
 "cells": [
  {
   "cell_type": "markdown",
   "id": "47be7687",
   "metadata": {},
   "source": [
    "#  1"
   ]
  },
  {
   "cell_type": "code",
   "execution_count": 1,
   "id": "c7f6d345",
   "metadata": {},
   "outputs": [],
   "source": [
    "# the two values of boolean data type is True , False \n"
   ]
  },
  {
   "cell_type": "markdown",
   "id": "83d2c4a7",
   "metadata": {},
   "source": [
    "#  2"
   ]
  },
  {
   "cell_type": "code",
   "execution_count": 2,
   "id": "35badcb5",
   "metadata": {},
   "outputs": [],
   "source": [
    "# three types of boolean operators are and , or , nor "
   ]
  },
  {
   "cell_type": "markdown",
   "id": "f31889f7",
   "metadata": {},
   "source": [
    "#  4"
   ]
  },
  {
   "cell_type": "code",
   "execution_count": 3,
   "id": "7a0327d6",
   "metadata": {},
   "outputs": [
    {
     "data": {
      "text/plain": [
       "False"
      ]
     },
     "execution_count": 3,
     "metadata": {},
     "output_type": "execute_result"
    }
   ],
   "source": [
    "(5>4) and (3==5)"
   ]
  },
  {
   "cell_type": "code",
   "execution_count": 4,
   "id": "688d73ed",
   "metadata": {},
   "outputs": [
    {
     "data": {
      "text/plain": [
       "False"
      ]
     },
     "execution_count": 4,
     "metadata": {},
     "output_type": "execute_result"
    }
   ],
   "source": [
    "not(5>4)"
   ]
  },
  {
   "cell_type": "code",
   "execution_count": 5,
   "id": "81d64f12",
   "metadata": {},
   "outputs": [
    {
     "data": {
      "text/plain": [
       "True"
      ]
     },
     "execution_count": 5,
     "metadata": {},
     "output_type": "execute_result"
    }
   ],
   "source": [
    "(5>4) or (3==5)"
   ]
  },
  {
   "cell_type": "code",
   "execution_count": 6,
   "id": "eca3ac17",
   "metadata": {},
   "outputs": [
    {
     "data": {
      "text/plain": [
       "False"
      ]
     },
     "execution_count": 6,
     "metadata": {},
     "output_type": "execute_result"
    }
   ],
   "source": [
    "not ((5>4)or(True==False))"
   ]
  },
  {
   "cell_type": "code",
   "execution_count": 7,
   "id": "1730b4bb",
   "metadata": {},
   "outputs": [
    {
     "data": {
      "text/plain": [
       "True"
      ]
     },
     "execution_count": 7,
     "metadata": {},
     "output_type": "execute_result"
    }
   ],
   "source": [
    "(not False) or (not True)"
   ]
  },
  {
   "cell_type": "markdown",
   "id": "77c4f729",
   "metadata": {},
   "source": [
    "#  5"
   ]
  },
  {
   "cell_type": "code",
   "execution_count": 8,
   "id": "b51e17c2",
   "metadata": {},
   "outputs": [],
   "source": [
    "# six comparison oparators are <,>,==,<=,>=,!="
   ]
  },
  {
   "cell_type": "markdown",
   "id": "10669729",
   "metadata": {},
   "source": [
    "# 6"
   ]
  },
  {
   "cell_type": "code",
   "execution_count": 9,
   "id": "e693d151",
   "metadata": {},
   "outputs": [],
   "source": [
    "# assignment operator is = and equal is ==\n",
    "# when we want to store a value in a variable , we use assignment operator\n",
    "# when we compare two data then we use == "
   ]
  },
  {
   "cell_type": "markdown",
   "id": "6bd2a8a1",
   "metadata": {},
   "source": [
    "# 7"
   ]
  },
  {
   "cell_type": "code",
   "execution_count": 10,
   "id": "66513808",
   "metadata": {},
   "outputs": [
    {
     "name": "stdout",
     "output_type": "stream",
     "text": [
      "ham\n"
     ]
    }
   ],
   "source": [
    "spam = 0\n",
    "if spam == 10 :\n",
    "    print('eggs')\n",
    "if spam >5 :\n",
    "    print('bicon')\n",
    "else :\n",
    "    print('ham')\n",
    "    "
   ]
  },
  {
   "cell_type": "markdown",
   "id": "f0ac87de",
   "metadata": {},
   "source": [
    "#  8"
   ]
  },
  {
   "cell_type": "code",
   "execution_count": 13,
   "id": "2ce44c1c",
   "metadata": {},
   "outputs": [
    {
     "name": "stdout",
     "output_type": "stream",
     "text": [
      "3\n",
      "greetings\n"
     ]
    }
   ],
   "source": [
    "spam = int(input())\n",
    "if spam==1:\n",
    "    print('hello')\n",
    "elif spam==2:\n",
    "    print('Howdy')\n",
    "else :\n",
    "    print('greetings')"
   ]
  },
  {
   "cell_type": "markdown",
   "id": "132d0a79",
   "metadata": {},
   "source": [
    "#  9"
   ]
  },
  {
   "cell_type": "code",
   "execution_count": 1,
   "id": "2a856844",
   "metadata": {},
   "outputs": [],
   "source": [
    "# if our programme is stuck in an end less loop then we use break statement ."
   ]
  },
  {
   "cell_type": "markdown",
   "id": "a01d4cfe",
   "metadata": {},
   "source": [
    "#  10"
   ]
  },
  {
   "cell_type": "code",
   "execution_count": 5,
   "id": "54f233ab",
   "metadata": {},
   "outputs": [],
   "source": [
    "# break statement stop our loop after some condition and  continue skips the current iteration executes the very next iteration in the loop.                                                                                   "
   ]
  },
  {
   "cell_type": "markdown",
   "id": "83c066a7",
   "metadata": {},
   "source": [
    "#  11       \n",
    "    "
   ]
  },
  {
   "cell_type": "code",
   "execution_count": 8,
   "id": "40447b0c",
   "metadata": {},
   "outputs": [
    {
     "name": "stdout",
     "output_type": "stream",
     "text": [
      "0\n",
      "1\n",
      "2\n",
      "3\n",
      "4\n",
      "5\n",
      "6\n",
      "7\n",
      "8\n",
      "9\n"
     ]
    }
   ],
   "source": [
    "for i in range(0,10,1):\n",
    "    print (i)\n",
    "    # there are no difference between given three statement."
   ]
  },
  {
   "cell_type": "markdown",
   "id": "e5bc8522",
   "metadata": {},
   "source": [
    "#  12"
   ]
  },
  {
   "cell_type": "code",
   "execution_count": 2,
   "id": "0dde1adf",
   "metadata": {},
   "outputs": [
    {
     "name": "stdout",
     "output_type": "stream",
     "text": [
      "0\n",
      "1\n",
      "2\n",
      "3\n",
      "4\n",
      "5\n",
      "6\n",
      "7\n",
      "8\n",
      "9\n",
      "10\n"
     ]
    }
   ],
   "source": [
    "\n",
    "j=0\n",
    "while(j<11):\n",
    "    print(j)\n",
    "    j = j+1\n",
    "    "
   ]
  },
  {
   "cell_type": "code",
   "execution_count": 3,
   "id": "a68bc41f",
   "metadata": {},
   "outputs": [
    {
     "name": "stdout",
     "output_type": "stream",
     "text": [
      "0\n",
      "1\n",
      "2\n",
      "3\n",
      "4\n",
      "5\n",
      "6\n",
      "7\n",
      "8\n",
      "9\n",
      "10\n"
     ]
    }
   ],
   "source": [
    "for i in range(11):\n",
    "    print(i)\n"
   ]
  },
  {
   "cell_type": "markdown",
   "id": "6fc0a55b",
   "metadata": {},
   "source": []
  },
  {
   "cell_type": "code",
   "execution_count": null,
   "id": "df56f2d3",
   "metadata": {},
   "outputs": [],
   "source": []
  }
 ],
 "metadata": {
  "kernelspec": {
   "display_name": "Python 3 (ipykernel)",
   "language": "python",
   "name": "python3"
  },
  "language_info": {
   "codemirror_mode": {
    "name": "ipython",
    "version": 3
   },
   "file_extension": ".py",
   "mimetype": "text/x-python",
   "name": "python",
   "nbconvert_exporter": "python",
   "pygments_lexer": "ipython3",
   "version": "3.9.12"
  }
 },
 "nbformat": 4,
 "nbformat_minor": 5
}
